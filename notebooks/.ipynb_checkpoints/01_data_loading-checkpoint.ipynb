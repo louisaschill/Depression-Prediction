{
 "cells": [
  {
   "cell_type": "code",
   "execution_count": 1,
   "id": "0d7a1fb8-a9b6-4e91-8add-075e1a30df57",
   "metadata": {},
   "outputs": [],
   "source": [
    "# Import basic libraries\n",
    "import pandas as pd\n",
    "import numpy as np\n",
    "import os\n",
    "from pathlib import Path\n",
    "\n",
    "# Set display options\n",
    "pd.set_option('display.max_columns', None)\n",
    "pd.set_option('display.max_rows', 100)\n",
    "\n",
    "# Path to the core directory\n",
    "core_dir = \"../data/core\""
   ]
  },
  {
   "cell_type": "code",
   "execution_count": 2,
   "id": "12d0bbc5-b2ff-4ff5-97d2-aa3a2e53c013",
   "metadata": {},
   "outputs": [],
   "source": [
    "# Function to list data files\n",
    "def list_data_files(directory):\n",
    "    \"\"\"Recursively list all data files in the directory\"\"\"\n",
    "    data_files = []\n",
    "    for root, dirs, files in os.walk(directory):\n",
    "        for file in files:\n",
    "            if file.endswith(('.txt', '.csv')):\n",
    "                data_files.append(os.path.join(root, file))\n",
    "    return data_files"
   ]
  },
  {
   "cell_type": "code",
   "execution_count": 3,
   "id": "3a936893-4572-4812-95e6-0fc7928d9f01",
   "metadata": {},
   "outputs": [
    {
     "name": "stdout",
     "output_type": "stream",
     "text": [
      "Found 529 data files in ../data/core\n",
      "\n",
      "First few files:\n",
      "../data/core/linked-external-data/led_l_seda_demo_c.csv\n",
      "../data/core/linked-external-data/led_l_lodes.csv\n",
      "../data/core/linked-external-data/led_l_denspop.csv\n",
      "../data/core/linked-external-data/led_l_urbsat.csv\n",
      "../data/core/linked-external-data/led_l_no2.csv\n"
     ]
    }
   ],
   "source": [
    "# List all data files\n",
    "data_files = list_data_files(core_dir)\n",
    "print(f\"Found {len(data_files)} data files in {core_dir}\")\n",
    "print(\"\\nFirst few files:\")\n",
    "for file in data_files[:5]:\n",
    "    print(file)"
   ]
  },
  {
   "cell_type": "code",
   "execution_count": 4,
   "id": "090c26c1-4e55-43ab-a749-e64c661ba663",
   "metadata": {},
   "outputs": [],
   "source": [
    "# Function to load ABCD file\n",
    "def load_abcd_file(filepath):\n",
    "    \"\"\"Load an ABCD data file and return basic information\"\"\"\n",
    "    try:\n",
    "        # Try to load the file\n",
    "        df = pd.read_csv(filepath, delimiter='\\t', low_memory=False)\n",
    "        \n",
    "        # Get basic information\n",
    "        info = {\n",
    "            'shape': df.shape,\n",
    "            'columns': list(df.columns),\n",
    "            'missing_values': df.isnull().sum().sum(),\n",
    "            'file_name': os.path.basename(filepath)\n",
    "        }\n",
    "        \n",
    "        return df, info\n",
    "    except Exception as e:\n",
    "        print(f\"Error loading {filepath}: {str(e)}\")\n",
    "        return None, None"
   ]
  },
  {
   "cell_type": "code",
   "execution_count": 5,
   "id": "dcf00c45-5735-4d76-9dbd-783b59329b4e",
   "metadata": {},
   "outputs": [
    {
     "name": "stdout",
     "output_type": "stream",
     "text": [
      "\n",
      "Loading sample file: ../data/core/linked-external-data/led_l_seda_demo_c.csv\n",
      "\n",
      "File Information:\n",
      "Shape: (10519, 1)\n",
      "Number of columns: 1\n",
      "Total missing values: 0\n",
      "\n",
      "First few rows:\n",
      "  src_subject_id,eventname,ledsch_seda_c_baplusavgall,ledsch_seda_c_hsecdnec,ledsch_seda_c_hsflnfl,ledsch_seda_c_lninc50avgall,ledsch_seda_c_perasn,ledsch_seda_c_perblk,ledsch_seda_c_perecd,ledsch_seda_c_perell,ledsch_seda_c_perfl,ledsch_seda_c_perfrl,ledsch_seda_c_perhsp,ledsch_seda_c_perind,ledsch_seda_c_perrl,ledsch_seda_c_perspeced,ledsch_seda_c_perwht,ledsch_seda_c_povertyavgall,ledsch_seda_c_rsecdnec,ledsch_seda_c_rsflnfl,ledsch_seda_c_rural,ledsch_seda_c_sesavgall,ledsch_seda_c_single_momavgall,ledsch_seda_c_snapavgall,ledsch_seda_c_suburb,ledsch_seda_c_totenrl,ledsch_seda_c_town,ledsch_seda_c_unempavgall,ledsch_seda_c_urban\n",
      "0  NDAR_INV005V6D2C,baseline_year_1_arm_1,0.36073...                                                                                                                                                                                                                                                                                                                                                                                                                                                                                                                                                                                                           \n",
      "1  NDAR_INV00BD7VDC,baseline_year_1_arm_1,0.36032...                                                                                                                                                                                                                                                                                                                                                                                                                                                                                                                                                                                                           \n",
      "2  NDAR_INV00CY2MDM,baseline_year_1_arm_1,0.40820...                                                                                                                                                                                                                                                                                                                                                                                                                                                                                                                                                                                                           \n",
      "3  NDAR_INV00HEV6HB,baseline_year_1_arm_1,,0.1749...                                                                                                                                                                                                                                                                                                                                                                                                                                                                                                                                                                                                           \n",
      "4  NDAR_INV00J52GPG,baseline_year_1_arm_1,,0.1302...                                                                                                                                                                                                                                                                                                                                                                                                                                                                                                                                                                                                           \n",
      "\n",
      "Column names:\n",
      "src_subject_id,eventname,ledsch_seda_c_baplusavgall,ledsch_seda_c_hsecdnec,ledsch_seda_c_hsflnfl,ledsch_seda_c_lninc50avgall,ledsch_seda_c_perasn,ledsch_seda_c_perblk,ledsch_seda_c_perecd,ledsch_seda_c_perell,ledsch_seda_c_perfl,ledsch_seda_c_perfrl,ledsch_seda_c_perhsp,ledsch_seda_c_perind,ledsch_seda_c_perrl,ledsch_seda_c_perspeced,ledsch_seda_c_perwht,ledsch_seda_c_povertyavgall,ledsch_seda_c_rsecdnec,ledsch_seda_c_rsflnfl,ledsch_seda_c_rural,ledsch_seda_c_sesavgall,ledsch_seda_c_single_momavgall,ledsch_seda_c_snapavgall,ledsch_seda_c_suburb,ledsch_seda_c_totenrl,ledsch_seda_c_town,ledsch_seda_c_unempavgall,ledsch_seda_c_urban\n"
     ]
    }
   ],
   "source": [
    "# Load the first file as an example\n",
    "if data_files:\n",
    "    sample_file = data_files[0]\n",
    "    print(f\"\\nLoading sample file: {sample_file}\")\n",
    "    \n",
    "    df, info = load_abcd_file(sample_file)\n",
    "    \n",
    "    if df is not None:\n",
    "        print(\"\\nFile Information:\")\n",
    "        print(f\"Shape: {info['shape']}\")\n",
    "        print(f\"Number of columns: {len(info['columns'])}\")\n",
    "        print(f\"Total missing values: {info['missing_values']}\")\n",
    "        \n",
    "        print(\"\\nFirst few rows:\")\n",
    "        print(df.head())\n",
    "        \n",
    "        print(\"\\nColumn names:\")\n",
    "        for col in info['columns']:\n",
    "            print(col) "
   ]
  },
  {
   "cell_type": "code",
   "execution_count": null,
   "id": "0fb47aaf-26ee-4ec5-b05b-cc617bf8f33e",
   "metadata": {},
   "outputs": [],
   "source": []
  }
 ],
 "metadata": {
  "kernelspec": {
   "display_name": "Python 3 (ipykernel)",
   "language": "python",
   "name": "python3"
  },
  "language_info": {
   "codemirror_mode": {
    "name": "ipython",
    "version": 3
   },
   "file_extension": ".py",
   "mimetype": "text/x-python",
   "name": "python",
   "nbconvert_exporter": "python",
   "pygments_lexer": "ipython3",
   "version": "3.10.0"
  }
 },
 "nbformat": 4,
 "nbformat_minor": 5
}
